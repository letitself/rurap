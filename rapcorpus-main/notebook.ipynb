{
 "cells": [
  {
   "cell_type": "code",
   "execution_count": null,
   "id": "40b5c319",
   "metadata": {},
   "outputs": [],
   "source": [
    "from flask import Flask, render_template, url_for, request, redirect\n",
    "\n",
    "import lyricsgenius\n",
    "import re\n",
    "import time\n",
    "import sqlite3\n",
    "import nltk\n",
    "import logging as lg\n",
    "#nltk.download(\"punkt\")\n",
    "\n",
    "import pymorphy2\n",
    "m = pymorphy2.MorphAnalyzer()"
   ]
  },
  {
   "cell_type": "code",
   "execution_count": null,
   "id": "36883b3e",
   "metadata": {},
   "outputs": [],
   "source": [
    "app = Flask(__name__)"
   ]
  },
  {
   "cell_type": "code",
   "execution_count": null,
   "id": "b3d5589b",
   "metadata": {},
   "outputs": [],
   "source": [
    "genius = lyricsgenius.Genius(\"Oxrp7vCqqro2ISU1Ciy8083kkt8jFN_ev6colQxvYJ_Vyfl2a7EShHSLbC95nRnC\", skip_non_songs=True, excluded_terms=[\"(Remix)\", \"(Live)\"], remove_section_headers=True)\n",
    "\n",
    "database_path = \"data.db\""
   ]
  },
  {
   "cell_type": "markdown",
   "id": "2df90854",
   "metadata": {},
   "source": [
    "В списке albums_list мы указали кортежи с названиями альбомов и исполнителей. Для примера несколько альбомов:"
   ]
  },
  {
   "cell_type": "code",
   "execution_count": null,
   "id": "f3c27d96",
   "metadata": {},
   "outputs": [],
   "source": [
    "albums_list = [\n",
    "    (\"Ломбард\", \"Кровосток\"),\n",
    "    (\"Artist\", \"HASH TAG\"),\n",
    "    (\"Записки юного врача\", \"Мэйти\"),\n",
    "    (\"Гиблое дело\", \"Каспийский Груз\"),\n",
    "    (\"Dolor\", \"Pharaoh\"),\n",
    "    (\"На реальных событиях\", \"Rigos\"),\n",
    "    (\"Block Star\", \"Yanix\"),\n",
    "    (\"Автолюбитель\", \"L'One\")\n",
    "]"
   ]
  },
  {
   "cell_type": "markdown",
   "id": "711d4715",
   "metadata": {},
   "source": [
    "Функция для очистки от странных пробелов:"
   ]
  },
  {
   "cell_type": "code",
   "execution_count": null,
   "id": "cdf7f1cd",
   "metadata": {},
   "outputs": [],
   "source": [
    "def clean(lyric):\n",
    "    return re.sub(\"\\u2005|\\u205f|\\xa0\", \" \", lyric)"
   ]
  },
  {
   "cell_type": "markdown",
   "id": "27faf4e9",
   "metadata": {},
   "source": [
    "Функция для поиска текста определённого трека в Genius:"
   ]
  },
  {
   "cell_type": "code",
   "execution_count": null,
   "id": "19a1216d",
   "metadata": {},
   "outputs": [],
   "source": [
    "def get_lyrics(track):\n",
    "    lyrics = genius.lyrics(track[\"id\"])\n",
    "    if lyrics:\n",
    "        if lyrics.endswith(\"EmbedShare URLCopyEmbedCopy\"):\n",
    "            lyrics = re.sub(\"\\d*EmbedShare URLCopyEmbedCopy$\", \"\", lyrics)\n",
    "    return lyrics"
   ]
  },
  {
   "cell_type": "markdown",
   "id": "81859bfc",
   "metadata": {},
   "source": [
    "Функция для поиска текстов альбома в Genius:"
   ]
  },
  {
   "cell_type": "code",
   "execution_count": null,
   "id": "04a43846",
   "metadata": {},
   "outputs": [],
   "source": [
    "def get_tracks(album):\n",
    "    tracks = []\n",
    "    album_info = genius.search_album(album[0], album[1])\n",
    "    if album_info:\n",
    "        for track in album_info.tracks:\n",
    "            tracks.append({\n",
    "                \"title\": track._body[\"song\"][\"title\"],\n",
    "                \"artist\": track._body[\"song\"][\"primary_artist\"][\"name\"],\n",
    "                \"id\": track.id,\n",
    "                \"album\": album_info._body[\"name\"],\n",
    "                \"year\": album_info._body[\"release_date_components\"][\"year\"]\n",
    "            })\n",
    "            tracks[-1][\"lyrics\"] = get_lyrics(tracks[-1])\n",
    "    return tracks"
   ]
  },
  {
   "cell_type": "markdown",
   "id": "06ca10bc",
   "metadata": {},
   "source": [
    "Глобальная функция получения текстов по списку альбомов из Genius:"
   ]
  },
  {
   "cell_type": "code",
   "execution_count": null,
   "id": "27820b30",
   "metadata": {},
   "outputs": [],
   "source": [
    "def get_albums(albums_list):\n",
    "    connection = sqlite3.connect(database_path)\n",
    "    cur = connection.cursor()\n",
    "    \n",
    "    cur.execute(f\"DROP TABLE IF EXISTS Tracks\")\n",
    "    cur.execute(\n",
    "        \"\"\"CREATE TABLE \"Tracks\" (\"id\" TEXT UNIQUE NOT NULL, \"title\" TEXT, \"artist\" TEXT, \"album\" TEXT, \"year\" INTEGER, \"lyrics\" TEXT, PRIMARY KEY(\"id\"))\"\"\")\n",
    "    for album in albums_list:\n",
    "        tracks = get_tracks(album)\n",
    "        for track in tracks:\n",
    "            try:\n",
    "                cur.execute(\"INSERT INTO Tracks VALUES (?, ?, ?, ?, ?, ?)\", (\n",
    "                track[\"id\"], track[\"title\"], track[\"artist\"], track[\"album\"], track[\"year\"], track[\"lyrics\"]))\n",
    "                connection.commit()\n",
    "            except sqlite3.IntegrityError:\n",
    "                pass"
   ]
  },
  {
   "cell_type": "markdown",
   "id": "1a62557b",
   "metadata": {},
   "source": [
    "Делим тексты на строчки и записываем в отдельную таблицу:"
   ]
  },
  {
   "cell_type": "code",
   "execution_count": null,
   "id": "d5db9b93",
   "metadata": {},
   "outputs": [],
   "source": [
    "def split_to_strings():\n",
    "    connection = sqlite3.connect(database_path)\n",
    "    cur = connection.cursor()\n",
    "    \n",
    "    cur.execute(f\"DROP TABLE IF EXISTS Lyrics\")\n",
    "    cur.execute(\n",
    "        \"\"\"CREATE TABLE \"Lyrics\" (\"lyric_id\" INTEGER UNIQUE NOT NULL, \"intrack_id\" INTEGER NOT NULL, \"track_id\" TEXT NOT NULL, \"lyric\" TEXT NOT NULL, PRIMARY KEY(\"lyric_id\"))\"\"\")\n",
    "    tracks = cur.execute(\"SELECT * FROM Tracks\").fetchall()\n",
    "\n",
    "    for track in tracks:\n",
    "        try:\n",
    "            text = re.split(\"\\n\", track[5])  # text = [lyric1, lyric2, …]\n",
    "        except TypeError:\n",
    "            if isinstance(text, list):\n",
    "                pass\n",
    "\n",
    "        for i in range(len(text)):\n",
    "            if len(text[i]) > 0 and re.search(\"[А-Яа-яЁёA-Za-z\\d]\", text[i]) is not None:\n",
    "                lyric_id = cur.execute(\"SELECT COUNT(*) FROM Lyrics\").fetchone()[0]\n",
    "                cur.execute(\"INSERT INTO Lyrics VALUES (?, ?, ?, ?)\", (lyric_id, i, track[0], text[i]))\n",
    "\n",
    "    connection.commit()"
   ]
  },
  {
   "cell_type": "markdown",
   "id": "5a659c97",
   "metadata": {},
   "source": [
    "Токенизируем и лемматизируем все строчки и записываем их тоже в отдельную таблицу:"
   ]
  },
  {
   "cell_type": "code",
   "execution_count": null,
   "id": "8b74a01e",
   "metadata": {},
   "outputs": [],
   "source": [
    "def tokenize():\n",
    "    connection = sqlite3.connect(database_path)\n",
    "    cur = connection.cursor()\n",
    "    \n",
    "    tokendict = {}\n",
    "\n",
    "    cur.execute(f\"DROP TABLE IF EXISTS Tokens\")\n",
    "    cur.execute(\n",
    "        \"\"\"CREATE TABLE \"Tokens\" (\"token_id\" INTEGER UNIQUE NOT NULL, \"inlyric_id\" INTEGER NOT NULL, \"lyric_id\" INTEGER NOT NULL, \"token\" TEXT NOT NULL, \"lemma\" TEXT NOT NULL, \"pos\" TEXT, \"tags\" TEXT, PRIMARY KEY(\"token_id\"))\"\"\")\n",
    "\n",
    "    lyrics = cur.execute(\"SELECT * FROM Lyrics\").fetchall()\n",
    "\n",
    "    n = len(lyrics)\n",
    "\n",
    "    for i in range(len(lyrics)):\n",
    "        tokens = nltk.word_tokenize(lyrics[i][3])\n",
    "        if i % 100 == 0:\n",
    "            print(f\"{i} / {n} lyrics\")\n",
    "\n",
    "        counter = 0\n",
    "\n",
    "        for token in tokens:\n",
    "            if token in tokendict:\n",
    "                pos_tag = tokendict[token][\"pos_tag\"]\n",
    "                other_tags = tokendict[token][\"other_tags\"]\n",
    "                lemma = tokendict[token][\"lemma\"]\n",
    "\n",
    "            else:\n",
    "                results = m.parse(token)[0]\n",
    "\n",
    "                if \"PNCT\" in results.tag:\n",
    "                    break\n",
    "\n",
    "                tagline = results.tag.cyr2lat(results.tag)\n",
    "                pos_index = re.match(\"[A-Z]+\", tagline).end()\n",
    "                pos_tag = tagline[:pos_index]\n",
    "                other_tags = re.sub(\",\", \" \", tagline[pos_index:]).strip(\" \")\n",
    "                lemma = results.normal_form\n",
    "\n",
    "                tokendict[token] = {\n",
    "                    \"pos_tag\": pos_tag,\n",
    "                    \"other_tags\": other_tags,\n",
    "                    \"lemma\": lemma\n",
    "                }\n",
    "\n",
    "            token_id = cur.execute(\"SELECT COUNT(*) FROM Tokens\").fetchone()[0]\n",
    "            cur.execute(\"INSERT INTO Tokens VALUES (?, ?, ?, ?, ?, ?, ?)\",\n",
    "                        (token_id, counter, lyrics[i][0], token, lemma, pos_tag, other_tags))\n",
    "\n",
    "            counter += 1\n",
    "\n",
    "        connection.commit()"
   ]
  },
  {
   "cell_type": "markdown",
   "id": "c4a240ce",
   "metadata": {},
   "source": [
    "Небольшие функции для обработки запросов пользователя:"
   ]
  },
  {
   "cell_type": "code",
   "execution_count": null,
   "id": "c42011b4",
   "metadata": {},
   "outputs": [],
   "source": [
    "def is_literal_token(property):\n",
    "    quotation = \"\"\"«»\"„“'\"\"\"\n",
    "    if property[0] in quotation and property[-1] in quotation:\n",
    "        return True\n",
    "    return False\n",
    "\n",
    "\n",
    "def unquote(token):\n",
    "    return token.strip(\"\"\"«»\"„“'\\\"\"\"\")\n",
    "\n",
    "\n",
    "def is_pos(property):\n",
    "    if re.search(\"[^A-Z]\", property) is None:\n",
    "        return True\n",
    "    return FalseФункции для обработки запросов пользователя:"
   ]
  },
  {
   "cell_type": "markdown",
   "id": "2ec44685",
   "metadata": {},
   "source": [
    "Функция для анализа запроса пользователя, использующая предыдущие функции:"
   ]
  },
  {
   "cell_type": "code",
   "execution_count": null,
   "id": "f4c74346",
   "metadata": {},
   "outputs": [],
   "source": [
    "def analyze_query_token(token):\n",
    "    connection = sqlite3.connect(database_path)\n",
    "    cur = connection.cursor()\n",
    "    \n",
    "    literal_token = None\n",
    "    lemma = None\n",
    "    pos = None\n",
    "    \n",
    "    for property in token:\n",
    "        if is_literal_token(property):\n",
    "            if not literal_token:\n",
    "                literal_token = unquote(property)\n",
    "            else:\n",
    "                lg.error(f\"More than one tokens are found in your query.\")\n",
    "                break\n",
    "        elif is_pos(property):\n",
    "            if not pos:\n",
    "                pos = property\n",
    "            else:\n",
    "                lg.error(f\"More than one POS are found in your query.\")\n",
    "                break\n",
    "        else:\n",
    "            if not lemma:\n",
    "                lemma = m.parse(property)[0].normal_form\n",
    "            else:\n",
    "                lg.error(f\"More than one lemmas are found in your query.\")\n",
    "                break\n",
    "    \n",
    "    return literal_token, lemma, pos"
   ]
  },
  {
   "cell_type": "markdown",
   "id": "f7def07e",
   "metadata": {},
   "source": [
    "Ищем каждый токен запроса в базе данных:"
   ]
  },
  {
   "cell_type": "code",
   "execution_count": null,
   "id": "1443d831",
   "metadata": {},
   "outputs": [],
   "source": [
    "def find_token(token):\n",
    "    connection = sqlite3.connect(database_path)\n",
    "    cur = connection.cursor()\n",
    "    \n",
    "    literal_token, lemma, pos = analyze_query_token(token)\n",
    "    \n",
    "    query = \"SELECT token, token_id, inlyric_id, lyric, Lyrics.lyric_id as lyric_id, title, track_id, album, artist, year FROM Tokens JOIN Lyrics ON Tokens.lyric_id = Lyrics.lyric_id JOIN Tracks ON Lyrics.track_id = Tracks.id WHERE \"\n",
    "    \n",
    "    literal_token_query = \"token = ? AND \" if literal_token else \"\"\n",
    "    lemma_query = \"lemma = ? AND \" if lemma else \"\"\n",
    "    pos_query = \"pos = ? AND \" if pos else \"\"\n",
    "    \n",
    "    query = f\"{query}{literal_token_query}{lemma_query}{pos_query}\"\n",
    "    query = re.sub(\"AND $\", \"\", query)\n",
    "\n",
    "    if \"token = \" in query:\n",
    "        if \"lemma = \" in query:\n",
    "            if \"pos = \" in query:\n",
    "                results = cur.execute(query, (literal_token, lemma, pos)).fetchall()\n",
    "            else:\n",
    "                results = cur.execute(query, (literal_token, lemma)).fetchall()\n",
    "        else:\n",
    "            if \"pos = \" in query:\n",
    "                results = cur.execute(query, (literal_token, pos)).fetchall()\n",
    "            else:\n",
    "                results = cur.execute(query, (literal_token,)).fetchall()\n",
    "    else:\n",
    "        if \"lemma = \" in query:\n",
    "            if \"pos = \" in query:\n",
    "                results = cur.execute(query, (lemma, pos)).fetchall()\n",
    "            else:\n",
    "                results = cur.execute(query, (lemma,)).fetchall()\n",
    "        else:\n",
    "            if \"pos = \" in query:\n",
    "                results = cur.execute(query, (pos,)).fetchall()\n",
    "            else:\n",
    "                lg.error(\"No lemmas, no tokens, no POS. What have you typed here?\")\n",
    "                return []\n",
    "    \n",
    "    for i in range(len(results)):\n",
    "        results[i] = {\n",
    "            \"token\": results[i][0],\n",
    "            \"token_id\": results[i][1],\n",
    "            \"inlyric_id\": results[i][2],\n",
    "            \"lyric\": clean(results[i][3]),\n",
    "            \"lyric_id\": results[i][4],\n",
    "            \"title\": clean(results[i][5]),\n",
    "            \"track_id\": results[i][6],\n",
    "            \"album\": clean(results[i][7]),\n",
    "            \"artist\": clean(results[i][8]),\n",
    "            \"year\": results[i][9]\n",
    "        }\n",
    "    \n",
    "    return results"
   ]
  },
  {
   "cell_type": "markdown",
   "id": "021bc8c8",
   "metadata": {},
   "source": [
    "Основная функция поиска:"
   ]
  },
  {
   "cell_type": "code",
   "execution_count": null,
   "id": "a0b54513",
   "metadata": {},
   "outputs": [],
   "source": [
    "def search_query(query):\n",
    "    connection = sqlite3.connect(database_path)\n",
    "    cur = connection.cursor()\n",
    "    \n",
    "    query = re.split(\"[ \\t]+\", query.strip(\" \"))\n",
    "    \n",
    "    results = []\n",
    "    \n",
    "    for i in range(len(query)):\n",
    "        \n",
    "        token = re.split(\"\\+\", query[i].strip())\n",
    "        results.append(find_token(token))\n",
    "    \n",
    "    chains = []\n",
    "    for a in range(len(results[0])):\n",
    "        chain = [results[0][a]]\n",
    "        \n",
    "        for k in range(1, len(results)):\n",
    "            if chain:\n",
    "                \n",
    "                found = False\n",
    "                \n",
    "                for b in range(len(results[k])):\n",
    "                    \n",
    "                    if results[0][a][\"lyric_id\"] == results[k][b][\"lyric_id\"]:\n",
    "                        if results[0][a][\"inlyric_id\"] + k == results[k][b][\"inlyric_id\"]:\n",
    "                            found = True\n",
    "                            break\n",
    "                \n",
    "                if found:\n",
    "                    chain.append(results[k][b])\n",
    "                else:\n",
    "                    chain = None\n",
    "        \n",
    "        if chain:\n",
    "            chains.append(chain)\n",
    "    return chainsИщем каждый токен запроса в базе данных:"
   ]
  },
  {
   "cell_type": "markdown",
   "id": "e2c248dc",
   "metadata": {},
   "source": [
    "Якоря для Flask:"
   ]
  },
  {
   "cell_type": "code",
   "execution_count": null,
   "id": "4cff36fa",
   "metadata": {},
   "outputs": [],
   "source": [
    "@app.route('/')\n",
    "@app.route('/index')\n",
    "def index():\n",
    "    return render_template('index.html')\n",
    "\n",
    "\n",
    "@app.route('/instructions')\n",
    "def instructions():\n",
    "    return render_template('instructions.html')"
   ]
  },
  {
   "cell_type": "markdown",
   "id": "43d46cfa",
   "metadata": {},
   "source": [
    "Этот якорь выдаёт текст трека целиком:"
   ]
  },
  {
   "cell_type": "code",
   "execution_count": null,
   "id": "7df667f5",
   "metadata": {},
   "outputs": [],
   "source": [
    "@app.route('/track/<track_id>', methods=['GET', 'POST'])\n",
    "def track(track_id):\n",
    "    if track_id == \"search\":\n",
    "        return render_template(\"index.html\")\n",
    "    \n",
    "    connection = sqlite3.connect(database_path)\n",
    "    cur = connection.cursor()\n",
    "    \n",
    "    track = cur.execute(\"SELECT lyrics, title, id, album, artist, year FROM Tracks WHERE id = ?\", (track_id,)).fetchall()[0]\n",
    "    \n",
    "    track = {\n",
    "        \"title\": track[1],\n",
    "        \"artist\": track[4],\n",
    "        \"album\": track[3],\n",
    "        \"year\": track[5],\n",
    "        \"lyrics\": track[0]\n",
    "    }\n",
    "    \n",
    "    return render_template(\"track.html\", track=track)"
   ]
  },
  {
   "cell_type": "markdown",
   "id": "67e4665b",
   "metadata": {},
   "source": [
    "А этот взаимодействует с html и выдаёт результаты поиска:"
   ]
  },
  {
   "cell_type": "code",
   "execution_count": null,
   "id": "c11f9ab9",
   "metadata": {},
   "outputs": [],
   "source": [
    "@app.route('/search', methods=['GET', 'POST'])\n",
    "def search(query=None):\n",
    "    if request.method == 'POST':\n",
    "        query = request.form['query']\n",
    "        if re.search(\"[А-Яа-яЁёA-Za-z\\d]+\", query) is None:\n",
    "            return render_template(\"none.html\", query=query)\n",
    "        \n",
    "        results = search_query(query)\n",
    "        if results == []:\n",
    "            return render_template(\"none.html\", query=query)\n",
    "        else:\n",
    "            return render_template(\"results.html\", results=results, query=query)"
   ]
  }
 ],
 "metadata": {
  "kernelspec": {
   "display_name": "Python 3 (ipykernel)",
   "language": "python",
   "name": "python3"
  }
 },
 "nbformat": 4,
 "nbformat_minor": 5
}
